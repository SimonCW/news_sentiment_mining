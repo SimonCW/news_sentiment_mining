{
 "cells": [
  {
   "cell_type": "code",
   "execution_count": 9,
   "metadata": {},
   "outputs": [],
   "source": [
    "import re\n",
    "import spacy\n",
    "from spacy_sentiws import spaCySentiWS\n",
    "import bs4 as bs\n",
    "import os\n",
    "import pandas as pd\n",
    "nlp = spacy.load('de')\n",
    "sentiws = spaCySentiWS(sentiws_path=os.path.join(os.getcwd(), 'aux'))\n",
    "nlp.add_pipe(sentiws)"
   ]
  },
  {
   "cell_type": "code",
   "execution_count": 2,
   "metadata": {},
   "outputs": [],
   "source": [
    "input_path = os.path.join(os.getcwd(), \"input\")\n",
    "articles = pd.read_csv(os.path.join(input_path, \"articles.csv\"))"
   ]
  },
  {
   "cell_type": "code",
   "execution_count": 3,
   "metadata": {},
   "outputs": [
    {
     "data": {
      "text/html": [
       "<div>\n",
       "<style scoped>\n",
       "    .dataframe tbody tr th:only-of-type {\n",
       "        vertical-align: middle;\n",
       "    }\n",
       "\n",
       "    .dataframe tbody tr th {\n",
       "        vertical-align: top;\n",
       "    }\n",
       "\n",
       "    .dataframe thead th {\n",
       "        text-align: right;\n",
       "    }\n",
       "</style>\n",
       "<table border=\"1\" class=\"dataframe\">\n",
       "  <thead>\n",
       "    <tr style=\"text-align: right;\">\n",
       "      <th></th>\n",
       "      <th>headline_intro</th>\n",
       "      <th>headline</th>\n",
       "      <th>date_published</th>\n",
       "      <th>content</th>\n",
       "    </tr>\n",
       "  </thead>\n",
       "  <tbody>\n",
       "    <tr>\n",
       "      <th>0</th>\n",
       "      <td>Migrationspolitik in Portugal</td>\n",
       "      <td>Das Land, das mehr Flüchtlinge aufnehmen will</td>\n",
       "      <td>2018-07-25 20:19:00</td>\n",
       "      <td>&lt;p&gt;Als das Flüchtlingsrettungsschiff \"Lifeline...</td>\n",
       "    </tr>\n",
       "    <tr>\n",
       "      <th>1</th>\n",
       "      <td>EU-Grenze zu Marokko</td>\n",
       "      <td>Hunderte Flüchtlinge stürmen spanische Exklave...</td>\n",
       "      <td>2018-07-26 13:45:00</td>\n",
       "      <td>&lt;p&gt;Immer wieder erklimmen Flüchtlinge den Gren...</td>\n",
       "    </tr>\n",
       "    <tr>\n",
       "      <th>2</th>\n",
       "      <td>Flüchtlingselend in Libyen</td>\n",
       "      <td>\"Europa schickt Menschen in die Hölle\"</td>\n",
       "      <td>2018-07-26 15:30:00</td>\n",
       "      <td>&lt;p&gt;Die Türkei war nur der Anfang: Die EU-Staat...</td>\n",
       "    </tr>\n",
       "    <tr>\n",
       "      <th>3</th>\n",
       "      <td>CSU-Minister</td>\n",
       "      <td>Scheuer gibt den Hardliner in der Flüchtlingsp...</td>\n",
       "      <td>2018-07-21 09:43:00</td>\n",
       "      <td>&lt;p&gt;In der Fußballnationalmannschaft, so sieht ...</td>\n",
       "    </tr>\n",
       "    <tr>\n",
       "      <th>4</th>\n",
       "      <td>Inszenierung in München</td>\n",
       "      <td>Performance entlarvt Verstecke des Geheimdiensts</td>\n",
       "      <td>2018-07-21 11:45:00</td>\n",
       "      <td>&lt;p&gt;Es könnte so harmlos wirken, doch als die a...</td>\n",
       "    </tr>\n",
       "  </tbody>\n",
       "</table>\n",
       "</div>"
      ],
      "text/plain": [
       "                  headline_intro  \\\n",
       "0  Migrationspolitik in Portugal   \n",
       "1           EU-Grenze zu Marokko   \n",
       "2     Flüchtlingselend in Libyen   \n",
       "3                   CSU-Minister   \n",
       "4        Inszenierung in München   \n",
       "\n",
       "                                            headline       date_published  \\\n",
       "0      Das Land, das mehr Flüchtlinge aufnehmen will  2018-07-25 20:19:00   \n",
       "1  Hunderte Flüchtlinge stürmen spanische Exklave...  2018-07-26 13:45:00   \n",
       "2             \"Europa schickt Menschen in die Hölle\"  2018-07-26 15:30:00   \n",
       "3  Scheuer gibt den Hardliner in der Flüchtlingsp...  2018-07-21 09:43:00   \n",
       "4   Performance entlarvt Verstecke des Geheimdiensts  2018-07-21 11:45:00   \n",
       "\n",
       "                                             content  \n",
       "0  <p>Als das Flüchtlingsrettungsschiff \"Lifeline...  \n",
       "1  <p>Immer wieder erklimmen Flüchtlinge den Gren...  \n",
       "2  <p>Die Türkei war nur der Anfang: Die EU-Staat...  \n",
       "3  <p>In der Fußballnationalmannschaft, so sieht ...  \n",
       "4  <p>Es könnte so harmlos wirken, doch als die a...  "
      ]
     },
     "execution_count": 3,
     "metadata": {},
     "output_type": "execute_result"
    }
   ],
   "source": [
    "articles.head()"
   ]
  },
  {
   "cell_type": "code",
   "execution_count": 11,
   "metadata": {},
   "outputs": [],
   "source": [
    "soup = bs.BeautifulSoup(articles.loc[0, \"content\"], 'html.parser')"
   ]
  },
  {
   "cell_type": "code",
   "execution_count": 17,
   "metadata": {},
   "outputs": [
    {
     "data": {
      "text/plain": [
       "'Als das Flüchtlingsrettungsschiff \"Lifeline\" im Juni tagelang im Mittelmeer umherirrte, war Portugal das erste Land, das einige der Menschen aufnahm. Im Gegensatz zu den meisten EU-Ländern, die die Zahl der ankommenden Flüchtlinge verringern wollen, würde die Regierung in Lissabon prinzipiell gern mehr Menschen aufnehmen.Abseits der gängigen Mittelmeerrouten gelegen, wird das Land nur von wenigen Migranten angesteuert. Portugal spricht sich deutlich für die Umverteilung von Flüchtlingen innerhalb der EU aus. \"Wir müssen uns weiterhin unserer Verantwortung gegenüber der Flüchtlinge stellen. Und diese Verantwortung tragen wir gemeinsam mit den anderen Ländern der Europäischen Union\", sagte Portugals Ministerpräsident Antonio Costa anlässlich des Weltflüchtlingstags vor wenigen Wochen. Portugal stellt sich den Gegnern einer europäischen Lösung in der Flüchtlingspolitik schon länger entgegen. Bereits 2015, als sich mehrere osteuropäische Staaten dagegen wehrten, Flüchtlinge aus Griechenland und Italien aufzunehmen, hatte Lissabon die Umverteilung unterstützt und zugestimmt, 2951 Menschen aufzunehmen. Kurze Zeit später trat Portugal freiwillig dem Umsiedlungsprogramm des Uno-Flüchtlingshilfswerks UNHCR bei. Das Programm siedelt Menschen aus Flüchtlingslagern in Nordafrika und dem Nahen Osten in Drittländer um.\\nEinwanderer gegen den Bevölkerungsrückgang\\nHauptgrund für die portugiesische Willkommenskultur ist ein deutlicher Rückgang der Bevölkerung. Portugal hat eine der niedrigsten Geburtenrate innerhalb der EU. Auf 1000 Einwohner kamen 2016 durchschnittlich 8,4 Geburten, im Jahr 2000 waren es noch 11,4. Hinzu kommt, dass als Folge der Wirtschaftskrise allein zwischen 2012 und 2016 Hunderttausende Portugiesen ihr Land verlassen haben.Eine Studie der portugiesischen Francisco Manuel dos Santos Foundation gibt an, dass Portugal mindestens 75.000 neue Einwohner jedes Jahr braucht, um die Bevölkerungszahl stabil zu halten. Auf diese Studie verwies auch Ministerpräsident Costa im Frühjahr. Seine sozialistische Regierung hat es sich zum Ziel gemacht, den Trend des Bevölkerungsrückgangs umzukehren. Allein durch Geburten ist das jedoch nicht zu schaffen. \"Wir brauchen mehr Einwanderer und werden fremdenfeindliche Rhetorik nicht tolerieren\", sagte Costa auf einem Parteitag im Mai und erntete tosenden Beifall. Sein Kurs wird auch von vielen Portugiesen unterstützt. \"Es gibt landesweit keine Gemeinde, die sich gegen die Flüchtlinge stellt\", sagt Migrationsexpertin Cristina Santinho vom \"CRIA-ISCTE-IUL\"-Institut im Gespräch mit SPIEGEL ONLINE. Unterstützung komme auch von der Kirche. Viele Portugiesen engagierten sich zudem ehrenamtlich in der Flüchtlingshilfe.\"Natürlich gibt es auch in Portugal Rassismus, aber er ist kaum sichtbar\", sagt Santinho. Es gebe keine großen ausländerfeindlichen Organisationen im Land. Auch vertrete keine Partei von Bedeutung solche Positionen. \"Die offene Flüchtlingspolitik wird von Politik und Zivilgesellschaft gemeinsam getragen\", sagt Santinho.Trotz der Bereitschaft, Menschen aufzunehmen, kommen jedoch nur wenige Flüchtlinge tatsächlich an. So endete das EU-Umverteilungsprogramm im vergangenen September mit einer ernüchternden Bilanz: Statt der fast 3000 Flüchtlinge, die in Portugal ein neues Zuhause finden sollten, kam nur etwa die Hälfte.Die Schuld dafür sieht Portugals Innenminister Eduardo Cabrita in dem Programm selbst. \"Eigentlich wollten wir viel mehr Menschen herholen. Aber das Programm hat schlecht funktioniert, und deshalb sind hier viel weniger Flüchtlinge angekommen, als eigentlich geplant war\", sagte er kürzlich im Deutschlandfunk. Die bürokratischen Hürden seien zu hoch gewesen und hätten die Umsetzung erschwert.\\nViele Flüchtlinge verlassen Portugal wieder\\nHinzu kommt, dass knapp die Hälfte der etwa 1500 aufgenommenen Menschen Portugal bereits wieder verlassen hat. Mit dieser Problematik beschäftigt sich auch Migrationsexpertin Santinho. Sie untersucht seit Jahren die Situation von Flüchtlingen in Portugal und entwickelt Projekte, die es jungen Geflüchteten aus Syrien und dem Irak ermöglicht, ihr Studium fortzusetzen, das sie aufgrund des Krieges abgebrochen haben. Die Gründe dafür, dass wenige Menschen kommen und viele bald wieder gehen, seien ähnlich.\"Häufig kennen Flüchtlinge Portugal gar nicht. Historisch bedingt kamen in der Vergangenheit überwiegend Menschen aus den ehemaligen Kolonien zu uns. So sind familiäre und kulturelle Netzwerke entstanden. Menschen aus Syrien beispielweise finden so etwas im Moment noch nicht in Portugal\", sagt Santinho. Viele Flüchtlinge würden sich daher in anderen europäischen Ländern auf die Suche nach Familienmitgliedern machen. Auch die wirtschaftliche Situation in Portugal sei Teil des Problems. Flüchtlinge hätten es schwer, Arbeit zu finden. In der Landwirtschaft gebe es allerdings gute Chancen. \"Menschen mit bestimmten Profilen haben es leichter, hier anzukommen\", sagt Santinho. Die Regierung in Portugal will Flüchtlinge nun gezielter auswählen. Noch bis 2019 läuft das UNHCR-Umsiedlungsprogramm. Bis dahin will das Land insgesamt 1010 Flüchtlinge aufnehmen, die in Ägypten und der Türkei leben. Bisher hat noch niemand Portugal erreicht. Die Vorbereitungen liefen jedoch auf Hochtouren, teilte eine Sprecherin des Uno-Flüchtlingswerks mit.\\nAuswahlgespräche vor der Ankunft\\nPortugal habe begonnen, Auswahlmissionen durchzuführen. Um die Zahl der Flüchtlinge zu erhöhen, die dauerhaft im Land bleiben, lässt die Regierung Flüchtlinge vor ihrer Ankunft in Portugal befragen. Teams aus Zollbeamten und Migrationsexperten sollen in Ägypten und der Türkei Interviews durchführen und aufklären, was Flüchtlinge in Portugal erwartet.Die erste Mission dieser Art ist bereits abgeschlossen. Anfang Juli ist ein Team nach Ägypten gereist. Anhand der dort geführten Interviews wurden 138 Menschen, darunter 70 Kinder, ausgewählt. Die Flüchtlinge stammen überwiegend aus Syrien und dem Sudan.Die Vorbereitungen für die Übersiedlung laufen. Wie die UNHCR-Sprecherin mitteilte, sollen die 138 Menschen frühestens im Herbst in Portugal eintreffen. Bis dahin könnte bereits eine weitere Auswahlmission abgeschlossen sein. Die portugiesischen Behörden bereiten sich nun darauf vor, Flüchtlinge in der Türkei zu befragen.'"
      ]
     },
     "execution_count": 17,
     "metadata": {},
     "output_type": "execute_result"
    }
   ],
   "source": [
    "soup.getText()"
   ]
  },
  {
   "cell_type": "code",
   "execution_count": null,
   "metadata": {},
   "outputs": [],
   "source": [
    "def clean_text(articles.loc[:, \"content\"]):\n",
    "    \"\"\"Cleans the columns in text_features. Returns a pandas series\"\"\"\n",
    "    \n",
    "    \n",
    "    "
   ]
  },
  {
   "cell_type": "code",
   "execution_count": 36,
   "metadata": {},
   "outputs": [],
   "source": [
    "def substitute_string(text, substitution_dict):\n",
    "    for key, value in sub_dict.items():\n",
    "        text = re.sub(key, value, text)\n",
    "    return text"
   ]
  },
  {
   "cell_type": "code",
   "execution_count": 37,
   "metadata": {},
   "outputs": [],
   "source": [
    "# Define dictionary with patterns to substitute for cleaning purposes\n",
    "sub_dict = {\n",
    "    \"\\n\\n\": \"\\n\",\n",
    "}"
   ]
  },
  {
   "cell_type": "code",
   "execution_count": 38,
   "metadata": {},
   "outputs": [],
   "source": [
    "text = clean_text(text, sub_dict)"
   ]
  },
  {
   "cell_type": "code",
   "execution_count": 39,
   "metadata": {},
   "outputs": [],
   "source": [
    "doc = nlp(text)"
   ]
  },
  {
   "cell_type": "code",
   "execution_count": 40,
   "metadata": {},
   "outputs": [],
   "source": [
    "targets = [\"flüchtlinge\", \"flüchtling\", \"geflüchtete\", \"geflüchteter\", \"geflüchtete\", \"asylbewerber\", \"asylsuchender\", \"asylant\", \"migrant\", \"migranten\", \"migrantin\"]"
   ]
  },
  {
   "cell_type": "code",
   "execution_count": 41,
   "metadata": {},
   "outputs": [],
   "source": [
    "# TODO: It is probably good to give each article an ID in my collection so that I don't have to save the whole doc with the score.\n",
    "def score_articles(doc):\n",
    "    results = []\n",
    "    sentiments = [token._.sentiws for token in doc if token._.sentiws and token.lower_]\n",
    "    if len(sentiments) > 0:\n",
    "        score = sum(sentiments) / len(sentiments)\n",
    "        results.append((doc.text[:100], score))\n",
    "    return results"
   ]
  },
  {
   "cell_type": "code",
   "execution_count": 42,
   "metadata": {},
   "outputs": [],
   "source": [
    "def score_sentences(doc, targets):\n",
    "    \"\"\"Score sentences that contain any of the target patterns. Returns a list of tuples\"\"\"\n",
    "    compiled_targets = [re.compile(target) for target in targets]\n",
    "    results = []\n",
    "    for sentence in doc.sents:\n",
    "        if any(target.search(sentence.lower_) for target in compiled_targets):\n",
    "            # I exclude \"Flüchtlinge\" and synonyms because they are scored as negative sentiment in the model\n",
    "            sentiments = [token._.sentiws for token in sentence if token._.sentiws and token.lower_ not in targets]\n",
    "            if len(sentiments) > 0:\n",
    "                score = sum(sentiments) / len(sentiments)\n",
    "                results.append((sentence, score))\n",
    "    return results"
   ]
  },
  {
   "cell_type": "code",
   "execution_count": 50,
   "metadata": {},
   "outputs": [],
   "source": [
    "def _export_target_sentences(doc, targets, export_path):\n",
    "    compiled_targets = [re.compile(target) for target in targets]\n",
    "    with open(export_path, \"w\", encoding=\"utf-8\") as f:\n",
    "        for sentence in doc.sents:\n",
    "            if any(target.search(sentence.lower_) for target in compiled_targets):\n",
    "                f.write(sentence.text)"
   ]
  },
  {
   "cell_type": "code",
   "execution_count": 51,
   "metadata": {},
   "outputs": [
    {
     "data": {
      "text/plain": [
       "[(Die Nationale Akademie der Wissenschaften fordert zügige Hilfe für traumatisierte Flüchtlinge.,\n",
       "  0.004),\n",
       " (Die altehrwürdige Nationale Akademie der Wissenschaften fordert in einer Stellungnahme schnelle Hilfe für traumatisierte Flüchtlinge.,\n",
       "  0.060450000000000004),\n",
       " (Flüchtlinge hätten häufig immense Gewalt und lebensbedrohliche Situationen erlebt, warnen die Wissenschaftler.,\n",
       "  -0.5363),\n",
       " (Ein Teil der Flüchtlinge ist dadurch nicht in der Lage, den Alltag zu bewältigen, soziale Beziehungen einzugehen oder eine neue Sprache zu erlernen.\",\n",
       "  0.004),\n",
       " (Herr Bajbouj, welche Hilfen benötigen traumatisierte Flüchtlinge?, 0.004),\n",
       " (Sie fordern gemeinsam mit zwölf weiteren Autoren schnelle Hilfe für traumatisierte Flüchtlinge.,\n",
       "  0.041633333333333335),\n",
       " (Bislang fehlen systematische Untersuchungen, wie viele der Geflüchteten behandlungswürdige Erkrankungen haben.,\n",
       "  -0.5365),\n",
       " (Die könnten anderen Flüchtlingen beibringen, wie man mit Stress umgeht und ihn vermeidet.,\n",
       "  -0.0048),\n",
       " (Psychische Probleme einerseits, Flüchtlingsdasein andererseits - welche Gefahren ergeben sich, wenn beides zusammenfällt?,\n",
       "  -0.69325),\n",
       " (Es herrscht sowieso Therapeutenmangel, jetzt kommen noch Flüchtlinge hinzu - also muss man die Ausbildung hochfahren.,\n",
       "  0.004),\n",
       " (Wir können jetzt neue Behandlungsmodelle entwickeln, die auch außerhalb der Flüchtlingsgemeinschaft sinnvoll sind.,\n",
       "  0.004)]"
      ]
     },
     "execution_count": 51,
     "metadata": {},
     "output_type": "execute_result"
    }
   ],
   "source": [
    "score_sentences(doc, targets)"
   ]
  },
  {
   "cell_type": "code",
   "execution_count": 52,
   "metadata": {},
   "outputs": [
    {
     "data": {
      "text/plain": [
       "[('\"Es müsste viel mehr passieren\"\\nEin Interview von Félice Gritti\\nDie Nationale Akademie der Wissensch',\n",
       "  -0.10117272727272733)]"
      ]
     },
     "execution_count": 52,
     "metadata": {},
     "output_type": "execute_result"
    }
   ],
   "source": [
    "score_articles(doc)"
   ]
  },
  {
   "cell_type": "code",
   "execution_count": 53,
   "metadata": {},
   "outputs": [],
   "source": [
    "export_path = os.path.join(os.getcwd(), \"input\", \"target_sentences.txt\")\n",
    "_export_target_sentences(doc, targets, export_path)"
   ]
  },
  {
   "cell_type": "markdown",
   "metadata": {},
   "source": [
    "# Citations\n",
    "- R. Remus, U. Quasthoff & G. Heyer: SentiWS - a Publicly Available German-language Resource for Sentiment Analysis.\n",
    "In: Proceedings of the 7th International Language Ressources and Evaluation (LREC'10), pp. 1168-1171, 2010"
   ]
  },
  {
   "cell_type": "code",
   "execution_count": null,
   "metadata": {},
   "outputs": [],
   "source": []
  }
 ],
 "metadata": {
  "kernelspec": {
   "display_name": "Python [conda env:py36]",
   "language": "python",
   "name": "conda-env-py36-py"
  },
  "language_info": {
   "codemirror_mode": {
    "name": "ipython",
    "version": 3
   },
   "file_extension": ".py",
   "mimetype": "text/x-python",
   "name": "python",
   "nbconvert_exporter": "python",
   "pygments_lexer": "ipython3",
   "version": "3.6.6"
  }
 },
 "nbformat": 4,
 "nbformat_minor": 2
}
