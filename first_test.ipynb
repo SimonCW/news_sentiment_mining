{
 "cells": [
  {
   "cell_type": "code",
   "execution_count": 82,
   "metadata": {},
   "outputs": [],
   "source": [
    "import re\n",
    "import spacy\n",
    "from spacy_sentiws import spaCySentiWS\n",
    "import os\n",
    "nlp = spacy.load('de')\n",
    "sentiws = spaCySentiWS(sentiws_path=os.path.join(os.getcwd(), 'aux'))\n",
    "nlp.add_pipe(sentiws)"
   ]
  },
  {
   "cell_type": "code",
   "execution_count": 83,
   "metadata": {},
   "outputs": [],
   "source": [
    "input_path = os.path.join(os.getcwd(), \"input\")\n",
    "with open(os.path.join(input_path, \"positive_example2.txt\"), \"r\") as f:\n",
    "     text = f.read()  \n",
    "        "
   ]
  },
  {
   "cell_type": "code",
   "execution_count": 84,
   "metadata": {},
   "outputs": [],
   "source": [
    "def clean_text(text, substitution_dict):\n",
    "    for key, value in sub_dict.items():\n",
    "        text = re.sub(key, value, text)\n",
    "    return text"
   ]
  },
  {
   "cell_type": "code",
   "execution_count": 85,
   "metadata": {},
   "outputs": [],
   "source": [
    "# Define dictionary with patterns to substitute for cleaning purposes\n",
    "sub_dict = {\n",
    "    \"\\n\\n\": \"\\n\",\n",
    "}"
   ]
  },
  {
   "cell_type": "code",
   "execution_count": 86,
   "metadata": {},
   "outputs": [],
   "source": [
    "text = clean_text(text, sub_dict)"
   ]
  },
  {
   "cell_type": "code",
   "execution_count": 87,
   "metadata": {},
   "outputs": [],
   "source": [
    "doc = nlp(text)"
   ]
  },
  {
   "cell_type": "code",
   "execution_count": 88,
   "metadata": {},
   "outputs": [],
   "source": [
    "targets = [\"flüchtlinge\", \"flüchtling\", \"geflüchtete\", \"geflüchteter\", \"geflüchtete\", \"asylbewerber\", \"asylsuchender\", \"asylant\"]"
   ]
  },
  {
   "cell_type": "code",
   "execution_count": 89,
   "metadata": {},
   "outputs": [],
   "source": [
    "def score_sentences(doc, targets):\n",
    "    \"\"\"Score sentences that contain any of the target patterns. Returns a list of tuples\"\"\"\n",
    "    compiled_targets = [re.compile(target) for target in targets]\n",
    "    results = []\n",
    "    for sentence in doc.sents:\n",
    "        if any(target.search(sentence.lower_) for target in compiled_targets):\n",
    "            # I exclude \"Flüchtlinge\" and synonyms because they are scored as negative sentiment in the model\n",
    "            sentiments = [token._.sentiws for token in sentence if token._.sentiws and token.lower_ not in targets]\n",
    "            if len(sentiments) > 0:\n",
    "                score = sum(sentiments) / len(sentiments)\n",
    "                results.append((sentence, score))\n",
    "    return results"
   ]
  },
  {
   "cell_type": "code",
   "execution_count": 90,
   "metadata": {},
   "outputs": [],
   "source": [
    "# TODO: It is probably good to give each article an ID in my collection so that I don't have to save the whole doc with the score.\n",
    "def score_articles(doc):\n",
    "    results = []\n",
    "    sentiments = [token._.sentiws for token in doc if token._.sentiws and token.lower_]\n",
    "    if len(sentiments) > 0:\n",
    "        score = sum(sentiments) / len(sentiments)\n",
    "        results.append((doc.text[:100], score))\n",
    "    return results"
   ]
  },
  {
   "cell_type": "code",
   "execution_count": 91,
   "metadata": {},
   "outputs": [
    {
     "data": {
      "text/plain": [
       "[(Gefährliche Islamisten dürfen bleiben, brave Flüchtlinge müssen gehen.,\n",
       "  -0.6366)]"
      ]
     },
     "execution_count": 91,
     "metadata": {},
     "output_type": "execute_result"
    }
   ],
   "source": [
    "score_sentences(doc, targets)"
   ]
  },
  {
   "cell_type": "code",
   "execution_count": 92,
   "metadata": {},
   "outputs": [
    {
     "data": {
      "text/plain": [
       "[('Abschiebegrund: Pünktlichkeit und Regeltreue\\nEine Kolumne von Jan Fleischhauer\\nWir schieben oft die ',\n",
       "  -0.022496296296296302)]"
      ]
     },
     "execution_count": 92,
     "metadata": {},
     "output_type": "execute_result"
    }
   ],
   "source": [
    "score_articles(doc)"
   ]
  },
  {
   "cell_type": "code",
   "execution_count": null,
   "metadata": {},
   "outputs": [],
   "source": []
  },
  {
   "cell_type": "code",
   "execution_count": null,
   "metadata": {},
   "outputs": [],
   "source": []
  }
 ],
 "metadata": {
  "kernelspec": {
   "display_name": "Python [conda env:py36]",
   "language": "python",
   "name": "conda-env-py36-py"
  },
  "language_info": {
   "codemirror_mode": {
    "name": "ipython",
    "version": 3
   },
   "file_extension": ".py",
   "mimetype": "text/x-python",
   "name": "python",
   "nbconvert_exporter": "python",
   "pygments_lexer": "ipython3",
   "version": "3.6.6"
  }
 },
 "nbformat": 4,
 "nbformat_minor": 2
}
