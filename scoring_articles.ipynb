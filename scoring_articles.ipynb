{
 "cells": [
  {
   "cell_type": "markdown",
   "metadata": {},
   "source": [
    "Todo:\n",
    "Something is wrong with the scoring. There are a lot of NaNs, especially for late 2015 early 2016. I suspect that while building the list for populating the score column memory runs out."
   ]
  },
  {
   "cell_type": "code",
   "execution_count": 29,
   "metadata": {},
   "outputs": [],
   "source": [
    "import re\n",
    "import spacy\n",
    "from spacy_sentiws import spaCySentiWS\n",
    "import bs4 as bs\n",
    "import os, time\n",
    "import pandas as pd\n",
    "%matplotlib inline\n",
    "import matplotlib.pyplot as plt\n",
    "import seaborn as sns; sns.set\n",
    "sns.set_context(\"paper\")\n",
    "nlp = spacy.load('de', disable=[\"ner\", \"textcat\"])\n",
    "sentiws = spaCySentiWS(sentiws_path=os.path.join(os.getcwd(), 'aux'))\n",
    "nlp.add_pipe(sentiws)"
   ]
  },
  {
   "cell_type": "code",
   "execution_count": 8,
   "metadata": {},
   "outputs": [],
   "source": [
    "input_path = os.path.join(os.getcwd(), \"input\")\n",
    "articles = pd.read_csv(os.path.join(input_path, \"articles.csv\"), parse_dates=[\"date_published\"])"
   ]
  },
  {
   "cell_type": "code",
   "execution_count": 9,
   "metadata": {},
   "outputs": [
    {
     "data": {
      "text/html": [
       "<div>\n",
       "<style scoped>\n",
       "    .dataframe tbody tr th:only-of-type {\n",
       "        vertical-align: middle;\n",
       "    }\n",
       "\n",
       "    .dataframe tbody tr th {\n",
       "        vertical-align: top;\n",
       "    }\n",
       "\n",
       "    .dataframe thead th {\n",
       "        text-align: right;\n",
       "    }\n",
       "</style>\n",
       "<table border=\"1\" class=\"dataframe\">\n",
       "  <thead>\n",
       "    <tr style=\"text-align: right;\">\n",
       "      <th></th>\n",
       "      <th>headline_intro</th>\n",
       "      <th>headline</th>\n",
       "      <th>date_published</th>\n",
       "      <th>content</th>\n",
       "    </tr>\n",
       "  </thead>\n",
       "  <tbody>\n",
       "    <tr>\n",
       "      <th>0</th>\n",
       "      <td>Migrationspolitik in Portugal</td>\n",
       "      <td>Das Land, das mehr Flüchtlinge aufnehmen will</td>\n",
       "      <td>2018-07-25 20:19:00</td>\n",
       "      <td>&lt;p&gt;Als das Flüchtlingsrettungsschiff \"Lifeline...</td>\n",
       "    </tr>\n",
       "    <tr>\n",
       "      <th>1</th>\n",
       "      <td>EU-Grenze zu Marokko</td>\n",
       "      <td>Hunderte Flüchtlinge stürmen spanische Exklave...</td>\n",
       "      <td>2018-07-26 13:45:00</td>\n",
       "      <td>&lt;p&gt;Immer wieder erklimmen Flüchtlinge den Gren...</td>\n",
       "    </tr>\n",
       "    <tr>\n",
       "      <th>2</th>\n",
       "      <td>Flüchtlingselend in Libyen</td>\n",
       "      <td>\"Europa schickt Menschen in die Hölle\"</td>\n",
       "      <td>2018-07-26 15:30:00</td>\n",
       "      <td>&lt;p&gt;Die Türkei war nur der Anfang: Die EU-Staat...</td>\n",
       "    </tr>\n",
       "    <tr>\n",
       "      <th>3</th>\n",
       "      <td>CSU-Minister</td>\n",
       "      <td>Scheuer gibt den Hardliner in der Flüchtlingsp...</td>\n",
       "      <td>2018-07-21 09:43:00</td>\n",
       "      <td>&lt;p&gt;In der Fußballnationalmannschaft, so sieht ...</td>\n",
       "    </tr>\n",
       "    <tr>\n",
       "      <th>4</th>\n",
       "      <td>Inszenierung in München</td>\n",
       "      <td>Performance entlarvt Verstecke des Geheimdiensts</td>\n",
       "      <td>2018-07-21 11:45:00</td>\n",
       "      <td>&lt;p&gt;Es könnte so harmlos wirken, doch als die a...</td>\n",
       "    </tr>\n",
       "  </tbody>\n",
       "</table>\n",
       "</div>"
      ],
      "text/plain": [
       "                  headline_intro  \\\n",
       "0  Migrationspolitik in Portugal   \n",
       "1           EU-Grenze zu Marokko   \n",
       "2     Flüchtlingselend in Libyen   \n",
       "3                   CSU-Minister   \n",
       "4        Inszenierung in München   \n",
       "\n",
       "                                            headline      date_published  \\\n",
       "0      Das Land, das mehr Flüchtlinge aufnehmen will 2018-07-25 20:19:00   \n",
       "1  Hunderte Flüchtlinge stürmen spanische Exklave... 2018-07-26 13:45:00   \n",
       "2             \"Europa schickt Menschen in die Hölle\" 2018-07-26 15:30:00   \n",
       "3  Scheuer gibt den Hardliner in der Flüchtlingsp... 2018-07-21 09:43:00   \n",
       "4   Performance entlarvt Verstecke des Geheimdiensts 2018-07-21 11:45:00   \n",
       "\n",
       "                                             content  \n",
       "0  <p>Als das Flüchtlingsrettungsschiff \"Lifeline...  \n",
       "1  <p>Immer wieder erklimmen Flüchtlinge den Gren...  \n",
       "2  <p>Die Türkei war nur der Anfang: Die EU-Staat...  \n",
       "3  <p>In der Fußballnationalmannschaft, so sieht ...  \n",
       "4  <p>Es könnte so harmlos wirken, doch als die a...  "
      ]
     },
     "execution_count": 9,
     "metadata": {},
     "output_type": "execute_result"
    }
   ],
   "source": [
    "articles.head()"
   ]
  },
  {
   "cell_type": "code",
   "execution_count": 10,
   "metadata": {},
   "outputs": [],
   "source": [
    "def parse_text(text):\n",
    "    \"\"\"Cleans the columns in text_features. Returns a pandas series\"\"\"\n",
    "    text = bs.BeautifulSoup(text, \"html.parser\").getText()\n",
    "    return text\n",
    "\n",
    "def clean_text(text, substitution_dict):\n",
    "    for key, value in sub_dict.items():\n",
    "        text = re.sub(key, value, text)\n",
    "    return text\n",
    "\n",
    "# Define dictionary with patterns to substitute for cleaning purposes\n",
    "sub_dict = {\n",
    "    \"\\n\\n\": \"\\n\",\n",
    "}"
   ]
  },
  {
   "cell_type": "code",
   "execution_count": 11,
   "metadata": {},
   "outputs": [],
   "source": [
    "articles = articles[articles[\"date_published\"] >= \"2015-01-01\"].dropna()\n",
    "articles.loc[:, \"content\"] = articles.loc[:, \"content\"].apply(lambda x: parse_text(x)).apply(lambda x: clean_text(x, sub_dict))"
   ]
  },
  {
   "cell_type": "code",
   "execution_count": 12,
   "metadata": {},
   "outputs": [],
   "source": [
    "# TODO: It is probably good to give each article an ID in my collection so that I don't have to save the whole doc with the score.\n",
    "def score_articles(doc, targets):\n",
    "    sentiments = [token._.sentiws for token in doc if (token._.sentiws) and (token.lower_ not in targets)]\n",
    "    if len(sentiments) > 0:\n",
    "        score = sum(sentiments) / len(sentiments)\n",
    "        return score\n",
    "    return 0. "
   ]
  },
  {
   "cell_type": "code",
   "execution_count": 13,
   "metadata": {},
   "outputs": [],
   "source": [
    "targets = [\"flüchtlinge\", \"flüchtling\", \"flüchtlingen\", \"flüchtlingsunterkunft\", \"flüchtlingsroute\", \"flüchtlingsroute\", \"flüchtlingswelle\", \n",
    "           \"geflüchtete\", \"geflüchteter\", \"geflüchtete\", \n",
    "           \"asylbewerber\", \"asylsuchender\", \"asylant\", \n",
    "           \"migrant\", \"migranten\", \"migrantin\"]"
   ]
  },
  {
   "cell_type": "code",
   "execution_count": 14,
   "metadata": {},
   "outputs": [],
   "source": [
    "docs_generator = nlp.pipe(articles.loc[:, \"content\"], batch_size=1000, n_threads=2)\n",
    "articles = articles.assign(score = pd.Series((score_articles(doc, targets) for doc in docs_generator)))"
   ]
  },
  {
   "cell_type": "code",
   "execution_count": 43,
   "metadata": {},
   "outputs": [],
   "source": [
    "articles[\"year-month\"] = articles.loc[:, \"date_published\"].map(lambda x: str(x.year) + \"-\" + str(x.month))\n",
    "articles[\"year-month\"] = pd.to_datetime(articles[\"year-month\"])\n",
    "articles.set_index(\"year-month\", inplace=True)"
   ]
  },
  {
   "cell_type": "code",
   "execution_count": 46,
   "metadata": {},
   "outputs": [
    {
     "data": {
      "image/png": "[encoded data removed]",
      "text/plain": [
       "<Figure size 432x288 with 1 Axes>"
      ]
     },
     "metadata": {},
     "output_type": "display_data"
    }
   ],
   "source": [
    "sns.lineplot(data=articles.resample(\"M\").sum());"
   ]
  },
  {
   "cell_type": "code",
   "execution_count": 76,
   "metadata": {},
   "outputs": [
    {
     "data": {
      "text/plain": [
       "year-month\n",
       "2017-01-01    Staatsanwaltschaft wirft Angeklagten religiöse...\n",
       "2015-11-01    Bundesregierung plant Ausweitung der Eilverfahren\n",
       "2016-04-01                             Jesus war nicht tolerant\n",
       "2016-01-01         Flüchtlinge warten bei Eiseskälte vor Lageso\n",
       "2017-10-01    Ein Ex-Mitarbeiter des Bundesamts für Flüchtli...\n",
       "2016-12-01    Tausende Flüchtlinge gelten ab Neujahr als vol...\n",
       "2015-09-01                    Brand an geplanter Asylunterkunft\n",
       "2015-09-01    Linke nennen USA Hauptverursacher der Flüchtli...\n",
       "2015-12-01    Arbeitsvermittler sollen 3600 Mitarbeiter zusä...\n",
       "2016-07-01        Die sollen erst mal anständig Deutsch lernen!\n",
       "Name: headline, dtype: object"
      ]
     },
     "execution_count": 76,
     "metadata": {},
     "output_type": "execute_result"
    }
   ],
   "source": [
    "# Tem most \"positive\" articles\n",
    "articles.sort_values(\"score\", ascending=False).iloc[0:10, 1]"
   ]
  },
  {
   "cell_type": "markdown",
   "metadata": {},
   "source": [
    "### EDA"
   ]
  },
  {
   "cell_type": "code",
   "execution_count": 98,
   "metadata": {},
   "outputs": [
    {
     "data": {
      "image/png": "[encoded data removed]",
      "text/plain": [
       "<Figure size 432x288 with 1 Axes>"
      ]
     },
     "metadata": {},
     "output_type": "display_data"
    }
   ],
   "source": [
    "articles.loc[:, [\"headline\"]].resample(\"Y\").count().plot.bar();"
   ]
  },
  {
   "cell_type": "code",
   "execution_count": null,
   "metadata": {},
   "outputs": [],
   "source": []
  },
  {
   "cell_type": "code",
   "execution_count": null,
   "metadata": {},
   "outputs": [],
   "source": []
  },
  {
   "cell_type": "code",
   "execution_count": 62,
   "metadata": {},
   "outputs": [],
   "source": [
    "def score_sentences(doc, targets):\n",
    "    \"\"\"Score sentences that contain any of the target patterns. Returns a list of tuples\"\"\"\n",
    "    compiled_targets = [re.compile(target) for target in targets]\n",
    "    results = []\n",
    "    for sentence in doc.sents:\n",
    "        if any(target.search(sentence.lower_) for target in compiled_targets):\n",
    "            # I exclude \"Flüchtlinge\" and synonyms because they are scored as negative sentiment in the model\n",
    "            sentiments = [token._.sentiws for token in sentence if token._.sentiws and token.lower_ not in targets]\n",
    "            if len(sentiments) > 0:\n",
    "                score = sum(sentiments) / len(sentiments)\n",
    "                results.extend(sentence, score)\n",
    "    return results"
   ]
  },
  {
   "cell_type": "markdown",
   "metadata": {},
   "source": [
    "# Citations\n",
    "- R. Remus, U. Quasthoff & G. Heyer: SentiWS - a Publicly Available German-language Resource for Sentiment Analysis.\n",
    "In: Proceedings of the 7th International Language Ressources and Evaluation (LREC'10), pp. 1168-1171, 2010"
   ]
  },
  {
   "cell_type": "code",
   "execution_count": null,
   "metadata": {},
   "outputs": [],
   "source": []
  }
 ],
 "metadata": {
  "kernelspec": {
   "display_name": "Python [conda env:py36]",
   "language": "python",
   "name": "conda-env-py36-py"
  },
  "language_info": {
   "codemirror_mode": {
    "name": "ipython",
    "version": 3
   },
   "file_extension": ".py",
   "mimetype": "text/x-python",
   "name": "python",
   "nbconvert_exporter": "python",
   "pygments_lexer": "ipython3",
   "version": "3.6.6"
  }
 },
 "nbformat": 4,
 "nbformat_minor": 2
}
