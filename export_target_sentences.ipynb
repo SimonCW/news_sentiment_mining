{
 "cells": [
  {
   "cell_type": "code",
   "execution_count": null,
   "metadata": {},
   "outputs": [],
   "source": [
    "import "
   ]
  },
  {
   "cell_type": "code",
   "execution_count": null,
   "metadata": {},
   "outputs": [],
   "source": [
    "def _export_target_sentences(doc, targets, export_path):\n",
    "    compiled_targets = [re.compile(target) for target in targets]\n",
    "    with open(export_path, \"w\", encoding=\"utf-8\") as f:\n",
    "        for sentence in doc.sents:\n",
    "            if any(target.search(sentence.lower_) for target in compiled_targets):\n",
    "                f.write(sentence.text)"
   ]
  },
  {
   "cell_type": "code",
   "execution_count": null,
   "metadata": {},
   "outputs": [],
   "source": [
    "export_path = os.path.join(os.getcwd(), \"input\", \"target_sentences.txt\")\n",
    "_export_target_sentences(doc, targets, export_path)"
   ]
  }
 ],
 "metadata": {
  "kernelspec": {
   "display_name": "Python [conda env:py36]",
   "language": "python",
   "name": "conda-env-py36-py"
  },
  "language_info": {
   "codemirror_mode": {
    "name": "ipython",
    "version": 3
   },
   "file_extension": ".py",
   "mimetype": "text/x-python",
   "name": "python",
   "nbconvert_exporter": "python",
   "pygments_lexer": "ipython3",
   "version": "3.6.6"
  }
 },
 "nbformat": 4,
 "nbformat_minor": 2
}
